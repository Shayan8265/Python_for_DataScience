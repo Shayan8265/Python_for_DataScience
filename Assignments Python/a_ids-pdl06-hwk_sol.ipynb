{
 "cells": [
  {
   "cell_type": "markdown",
   "metadata": {},
   "source": [
    "**ids-pdl06-hwk.ipynb**: This Jupyter notebook is provided by Joachim Vogt for the _Python Data Lab_ of the module _Introduction to Data Science_ offered in Fall 2022 at Jacobs University Bremen. Module instructors are Hilke Brockmann, Adalbert Wilhelm, and Joachim Vogt. Jupyter notebooks and other learning resources are available from a dedicated _module platform_."
   ]
  },
  {
   "cell_type": "markdown",
   "metadata": {},
   "source": [
    "# Homework: Control flow statements"
   ]
  },
  {
   "cell_type": "markdown",
   "metadata": {},
   "source": [
    "The homework assignments in this notebook supplement the tutorial *Control flow statements*.\n",
    "\n",
    "- Solve the assignments according to the instructions.\n",
    "- Upload the completed notebook to the module platform.\n",
    "- Do not forget to enter your name in the markdown cell below.\n",
    "\n",
    "The homework set carries a total of 20 points. Square brackets in the assignment titles specify individual point contributions."
   ]
  },
  {
   "cell_type": "markdown",
   "metadata": {},
   "source": [
    "## Name: SHAYAN ALI KHAN"
   ]
  },
  {
   "cell_type": "markdown",
   "metadata": {},
   "source": [
    "---"
   ]
  },
  {
   "cell_type": "markdown",
   "metadata": {},
   "source": [
    "## Preparation"
   ]
  },
  {
   "cell_type": "markdown",
   "metadata": {},
   "source": [
    "The text file `pdl06sol_forloop_Nmax=15.txt` is expected to reside in the working directory. Identify the file on the module platform and upload it to the same folder as this Jupyter notebook."
   ]
  },
  {
   "cell_type": "markdown",
   "metadata": {},
   "source": [
    "## Assignment: Conditional statements [5]"
   ]
  },
  {
   "cell_type": "markdown",
   "metadata": {},
   "source": [
    "Using three nested `if-else` blocks, provide a piece of Python code to check if a given year is a leap year. To prepare for this assignment, review the logic and the syntax of Python module operation `%`, and consider the following rules. Display the result by means of another `if-else` construction.\n",
    "\n",
    "1. Years that are not divisible by 4 are not leap years.\n",
    "2. Years that are divisible by 4 but not by 100 are leap years.\n",
    "3. Years that are divisible by 100 but not by 400 are not leap years.\n",
    "4. Years that are divisible by 400 are leap years.\n",
    "\n",
    "Complete the code cell below according to the instructions included as comments. More concretely, replace the `pass` statements with appropriate instructions, and the instances of `(42)` with correct boolean expressions."
   ]
  },
  {
   "cell_type": "code",
   "execution_count": 50,
   "metadata": {},
   "outputs": [
    {
     "name": "stdout",
     "output_type": "stream",
     "text": [
      "Year  800 was a leap year.\n",
      "Year 1492 was a leap year.\n",
      "Year 1776 was a leap year.\n",
      "Year 1789 was not a leap year.\n",
      "Year 1900 was not a leap year.\n",
      "Year 1945 was not a leap year.\n",
      "Year 2000 was a leap year.\n"
     ]
    }
   ],
   "source": [
    "### Define a list of years to test the nested if-else constructions.\n",
    "YearList = [800,1492,1776,1789,1900,1945,2000]\n",
    "### Initialize boolean variable LeapYear.\n",
    "LeapYear = False\n",
    "### Loop over the elements of the list of years.\n",
    "for Year in YearList:\n",
    "### if-else (1): Year is not divisible by 4.\n",
    "    if (Year%4!=0):\n",
    "        LeapYear= False\n",
    "    else:\n",
    "###.... if-else (2): Year is divisible by 4 but not by 100.\n",
    "        if (Year%4==0 and Year%100!=0):\n",
    "            LeapYear= True\n",
    "        else:\n",
    "###........ if (3): Year is divisible by 100 but not by 400.\n",
    "            if (Year%100==0 and Year%400!=0):\n",
    "                LeapYear= False\n",
    "###........ else 4: Year is divisible by 400.\n",
    "            else:\n",
    "                LeapYear= True\n",
    "### Display the result by means of another if-else construction.\n",
    "    if not LeapYear:\n",
    "        print('Year {:4d} was not a leap year.'.format(Year))\n",
    "    else:\n",
    "        print('Year {:4d} was a leap year.'.format(Year))\n"
   ]
  },
  {
   "cell_type": "markdown",
   "metadata": {},
   "source": [
    "## Assignment: `for` loop [3]"
   ]
  },
  {
   "cell_type": "markdown",
   "metadata": {},
   "source": [
    "Loops can be used to evaluate sequences or series in mathematics. As an example for a sequence, we consider the formula for *compound interest*:\n",
    "$$\n",
    "C_n \\; = \\; \\left( 1 + \\frac{1}{n+1} \\right)^{n+1} ~,~ n=0,1,2,3,\\ldots\n",
    "$$\n",
    "As an example for a series, we consider the Taylor expansion of the exponential function at zero:\n",
    "$$\n",
    "E_n \\; = \\; \\sum_{k=0}^n \\frac{1}{k!} ~,~ n=0,1,2,3,\\ldots\n",
    "$$\n",
    "Note that both $\\{C_n\\}_{n=0,1,2,\\ldots}$ and $\\{E_n\\}_{n=0,1,2,\\ldots}$ converge toward $e = 2.7182818\\ldots$ as $n \\rightarrow \\infty$.\n",
    "\n",
    "In the following code cell, add a `for` loop to compute and display $\\{C_n\\}_{n=0,1,2,\\ldots,N_\\text{max}}$ and $\\{E_n\\}_{n=0,1,2,\\ldots,N_\\text{max}}$ for $N_\\text{max} = 15$. Compare your results with the content of the file `pdl06sol_forloop_Nmax=15.txt`, see below."
   ]
  },
  {
   "cell_type": "code",
   "execution_count": 49,
   "metadata": {
    "scrolled": false
   },
   "outputs": [
    {
     "name": "stdout",
     "output_type": "stream",
     "text": [
      "Iteration 0: C =2.000000000000, En=1.000000000000 \n",
      "Iteration 1: C =2.250000000000, En=2.000000000000 \n",
      "Iteration 2: C =2.370370370370, En=2.500000000000 \n",
      "Iteration 3: C =2.441406250000, En=2.666666666667 \n",
      "Iteration 4: C =2.488320000000, En=2.708333333333 \n",
      "Iteration 5: C =2.521626371742, En=2.716666666667 \n",
      "Iteration 6: C =2.546499697041, En=2.718055555556 \n",
      "Iteration 7: C =2.565784513950, En=2.718253968254 \n",
      "Iteration 8: C =2.581174791713, En=2.718278769841 \n",
      "Iteration 9: C =2.593742460100, En=2.718281525573 \n",
      "Iteration 10: C =2.604199011898, En=2.718281801146 \n",
      "Iteration 11: C =2.613035290225, En=2.718281826198 \n",
      "Iteration 12: C =2.620600887886, En=2.718281828286 \n",
      "Iteration 13: C =2.627151556301, En=2.718281828447 \n",
      "Iteration 14: C =2.632878717728, En=2.718281828458 \n",
      "Iteration 15: C =2.637928497367, En=2.718281828459 \n"
     ]
    }
   ],
   "source": [
    "### In the formula for En, n! can be computed by means of factorial(n) from the module math.\n",
    "from math import factorial\n",
    "### Set maximum Nmax of iteration counter n.\n",
    "Nmax = 15\n",
    "### Initialize En.\n",
    "En = 0\n",
    "### Create for loop to compute and print Cn and En for n=0,1,2,...,Nmax.\n",
    "for n in range(0,Nmax+1):\n",
    "            \n",
    "    i = (1+ (1/(n+1))) ** (n+1)\n",
    "    En += 1/factorial(n)\n",
    "    print(\"Iteration {}: C ={:.12f}, En={:.12f} \".format(n,i,En))"
   ]
  },
  {
   "cell_type": "markdown",
   "metadata": {},
   "source": [
    "See the file `pdl06sol_forloop_Nmax=15.txt` for the correct results."
   ]
  },
  {
   "cell_type": "code",
   "execution_count": 46,
   "metadata": {},
   "outputs": [
    {
     "name": "stdout",
     "output_type": "stream",
     "text": [
      "Iteration  0:  C = 2.000000000000 ,  E = 1.000000000000\n",
      "Iteration  1:  C = 2.250000000000 ,  E = 2.000000000000\n",
      "Iteration  2:  C = 2.370370370370 ,  E = 2.500000000000\n",
      "Iteration  3:  C = 2.441406250000 ,  E = 2.666666666667\n",
      "Iteration  4:  C = 2.488320000000 ,  E = 2.708333333333\n",
      "Iteration  5:  C = 2.521626371742 ,  E = 2.716666666667\n",
      "Iteration  6:  C = 2.546499697041 ,  E = 2.718055555556\n",
      "Iteration  7:  C = 2.565784513950 ,  E = 2.718253968254\n",
      "Iteration  8:  C = 2.581174791713 ,  E = 2.718278769841\n",
      "Iteration  9:  C = 2.593742460100 ,  E = 2.718281525573\n",
      "Iteration 10:  C = 2.604199011898 ,  E = 2.718281801146\n",
      "Iteration 11:  C = 2.613035290225 ,  E = 2.718281826198\n",
      "Iteration 12:  C = 2.620600887886 ,  E = 2.718281828286\n",
      "Iteration 13:  C = 2.627151556301 ,  E = 2.718281828447\n",
      "Iteration 14:  C = 2.632878717728 ,  E = 2.718281828458\n",
      "Iteration 15:  C = 2.637928497367 ,  E = 2.718281828459\n",
      "\n"
     ]
    }
   ],
   "source": [
    "f = open('pdl06sol_forloop_Nmax=15.txt','r')\n",
    "smpout = f.read()\n",
    "f.close()\n",
    "print(smpout)"
   ]
  },
  {
   "cell_type": "markdown",
   "metadata": {},
   "source": [
    "## Assignment: `while` loop [6]"
   ]
  },
  {
   "cell_type": "markdown",
   "metadata": {},
   "source": [
    "In the cell below, you find incomplete Python code to play one round of a simplified version of Black Jack.\n",
    "\n",
    "- The finite size of the card deck is neglected so that the probability of drawing a particular type of card does not change throughout the game.\n",
    "- An ace always counts as 1.\n",
    "- As usual, number cards (2-10) count as their number and face cards (Jacks, Queens, Kings) count as 10.\n",
    "- You receive two cards. Then you can ask for an additional card as often as you like but when the total exceeds 21 (an outcome called *bust*) you loose.\n",
    "- After you have finished asking for additional cards, the dealer's hand is collected. Here cards are added as long as the total of the dealer's hand is smaller than 17. If the dealer busts but your total is 21 or below, you win.\n",
    "- If both you and the dealer arrive at totals of 21 or less (i.e., nobody busts), the hand with the largest total wins. If there is a tie (i.e., both hands have the same total), the dealer wins.\n",
    "\n",
    "Study the incomplete piece of code in the following cell. Following the example of the first `while` loop which completes the list `YourHand` and computes `YourTotal`, replace the `pass` statement with a second `while` loop that completes the list `DealersHand` and computes `DealersTotal`. In the `if-else` construction used to compare `YourTotal` and `DealersTotal`, replace instances of the number `(42)` with appropriate boolean expressions."
   ]
  },
  {
   "cell_type": "code",
   "execution_count": 42,
   "metadata": {},
   "outputs": [
    {
     "name": "stdout",
     "output_type": "stream",
     "text": [
      "Your hand      :  ['Seven', 'Ace']\n",
      "One more card (answer Y or N) : y\n",
      "Your hand      :  ['Seven', 'Ace', 'King']\n",
      "One more card (answer Y or N) : n\n",
      "\n",
      "Your total     :  18\n",
      "Dealer's total :  5\n",
      "You win because your total is larger than the dealer's total.\n"
     ]
    }
   ],
   "source": [
    "### Import randint to simulate random draws of cards.\n",
    "from numpy.random import randint\n",
    "\n",
    "### Define lists of cards and their values.\n",
    "ListOfCards = ['Ace','Two','Three','Four','Five','Six','Seven','Eight','Nine','Ten','Jack','Queen','King']\n",
    "ListOfValues = [1,2,3,4,5,6,7,8,9,10,10,10,10]\n",
    "\n",
    "### Your first card is drawn.\n",
    "Ind = randint(13)\n",
    "YourHand = [ListOfCards[Ind]]\n",
    "YourTotal = ListOfValues[Ind]\n",
    "OneMoreCard = 'Y'\n",
    "### Now you are asked for additional cards.\n",
    "while OneMoreCard.upper()=='Y':\n",
    "    Ind = randint(13)\n",
    "    YourHand.append(ListOfCards[Ind])\n",
    "    print('Your hand      : ',YourHand)\n",
    "    YourTotal = YourTotal + ListOfValues[Ind]\n",
    "    if YourTotal>21:\n",
    "        print(\"Your total     : \",YourTotal)\n",
    "        print(\"The dealer wins because your total exceeds 21.\")\n",
    "        break\n",
    "    else:\n",
    "        OneMoreCard = input('One more card (answer Y or N) : ')\n",
    "else:\n",
    "### The dealer's cards are drawn.\n",
    "    print()\n",
    "    Ind = randint(13)\n",
    "    DealersHand = [ListOfCards[Ind]]\n",
    "    DealersTotal = ListOfValues[Ind]\n",
    "    \n",
    "\n",
    "### Compare the totals to decide who wins.\n",
    "if (YourTotal<=21) and (DealersTotal<=21):    \n",
    "    print(\"Your total     : \",YourTotal)\n",
    "    print(\"Dealer's total : \",DealersTotal)\n",
    "    if (YourTotal>DealersTotal):\n",
    "        print(\"You win because your total is larger than the dealer's total.\")\n",
    "    else:\n",
    "        print(\"The dealer wins because your total is not larger than the dealer's total.\")"
   ]
  },
  {
   "cell_type": "markdown",
   "metadata": {},
   "source": [
    "## Assignment: List comprehensions [6]"
   ]
  },
  {
   "cell_type": "markdown",
   "metadata": {},
   "source": [
    "For each of the following control structures, find a list comprehension that yields the same result. "
   ]
  },
  {
   "cell_type": "code",
   "execution_count": 51,
   "metadata": {
    "scrolled": true
   },
   "outputs": [
    {
     "name": "stdout",
     "output_type": "stream",
     "text": [
      "*** First example (geometric sequence) ***\n",
      "Control structure  :  [1.0, 0.5, 0.25, 0.125, 0.0625, 0.03125, 0.015625, 0.0078125, 0.00390625]\n",
      "List comprehension :  [1.0, 0.5, 0.25, 0.125, 0.0625, 0.03125, 0.015625, 0.0078125, 0.00390625]\n",
      "\n",
      "*** Second example (consonants) ***\n",
      "Control structure  :  ['B', 'C', 'D', 'F', 'G', 'H', 'J', 'K', 'L', 'M', 'N', 'P', 'Q', 'R', 'S', 'T', 'V', 'W', 'X', 'Y', 'Z']\n",
      "List comprehension :  ['B', 'C', 'D', 'F', 'G', 'H', 'J', 'K', 'L', 'M', 'N', 'P', 'Q', 'R', 'S', 'T', 'V', 'W', 'X', 'Y', 'Z']\n",
      "\n",
      "*** Third example (binomial coefficients) ***\n",
      "Control structure  :  [(0, 0, 1), (1, 0, 1), (1, 1, 1), (2, 0, 1), (2, 1, 2), (2, 2, 1), (3, 0, 1), (3, 1, 3), (3, 2, 3), (3, 3, 1), (4, 0, 1), (4, 1, 4), (4, 2, 6), (4, 3, 4), (4, 4, 1)]\n",
      "List comprehension :  [(0, 0, 1), (1, 0, 1), (1, 1, 1), (2, 0, 1), (2, 1, 2), (2, 2, 1), (3, 0, 1), (3, 1, 3), (3, 2, 3), (3, 3, 1), (4, 0, 1), (4, 1, 4), (4, 2, 6), (4, 3, 4), (4, 4, 1)]\n",
      "\n"
     ]
    }
   ],
   "source": [
    "### First control structure.\n",
    "base = 0.5\n",
    "cs1 = []\n",
    "for k in range(9):\n",
    "    cs1.append(base**k)\n",
    "### First list comprehension, equivalent to the first control structure.\n",
    "lc1 = [base**k for k in range(9)]\n",
    "### Comparison of control structure and list comprehension.\n",
    "print('*** First example (geometric sequence) ***')\n",
    "print('Control structure  : ',cs1)\n",
    "print('List comprehension : ',lc1)\n",
    "print()\n",
    "\n",
    "### Second control structure.\n",
    "Alphabet = list('ABCDEFGHIJKLMNOPQRSTUVWXYZ')\n",
    "Vowels = list('AEIOU')\n",
    "cs2 = []\n",
    "for char in Alphabet:\n",
    "    if char not in Vowels:\n",
    "        cs2.append(char)\n",
    "### Second list comprehension, equivalent to the second control structure.\n",
    "lc2 = [l for l in Alphabet if l not in Vowels]\n",
    "### Comparison of control structure and list comprehension.\n",
    "print('*** Second example (consonants) ***')\n",
    "print('Control structure  : ',cs2)\n",
    "print('List comprehension : ',lc2)\n",
    "print()\n",
    "\n",
    "### Third control structure.\n",
    "from scipy.special import comb\n",
    "cs3 = []\n",
    "for N in range(5):\n",
    "    for k in range(N+1):\n",
    "        cs3.append((N,k,comb(N,k,exact=True)))        \n",
    "### Third list comprehension, equivalent to the third control structure.\n",
    "#lst5 = [char1+char2 for char1 in 'ABC' for char2 in '123']\n",
    "lc3 = [ (N,k,comb(N,k,exact=True) ) for N in range(5) for k in range(N+1)]\n",
    "### Comparison of control structure and list comprehension.\n",
    "print('*** Third example (binomial coefficients) ***')\n",
    "print('Control structure  : ',cs3)\n",
    "print('List comprehension : ',lc3)\n",
    "print()"
   ]
  },
  {
   "cell_type": "markdown",
   "metadata": {},
   "source": [
    "---\n",
    "---"
   ]
  }
 ],
 "metadata": {
  "kernelspec": {
   "display_name": "Python 3 (ipykernel)",
   "language": "python",
   "name": "python3"
  },
  "language_info": {
   "codemirror_mode": {
    "name": "ipython",
    "version": 3
   },
   "file_extension": ".py",
   "mimetype": "text/x-python",
   "name": "python",
   "nbconvert_exporter": "python",
   "pygments_lexer": "ipython3",
   "version": "3.9.12"
  }
 },
 "nbformat": 4,
 "nbformat_minor": 4
}
