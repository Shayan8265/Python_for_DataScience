{
 "cells": [
  {
   "cell_type": "markdown",
   "metadata": {},
   "source": [
    "**ids-pdl04-hwk.ipynb**: This Jupyter notebook is provided by Joachim Vogt for the _Python Data Lab_ of the module _Introduction to Data Science_ offered in Fall 2022 at Jacobs University Bremen. Module instructors are Hilke Brockmann, Adalbert Wilhelm, and Joachim Vogt. Jupyter notebooks and other learning resources are available from a dedicated _module platform_."
   ]
  },
  {
   "cell_type": "markdown",
   "metadata": {},
   "source": [
    "# Homework assignments: NumPy basics"
   ]
  },
  {
   "cell_type": "markdown",
   "metadata": {},
   "source": [
    "The homework assignments in this notebook supplement the tutorial *NumPy basics*.\n",
    "\n",
    "- Solve the assignments according to the instructions.\n",
    "- Upload the completed notebook to the module platform.\n",
    "- Do not forget to enter your name in the markdown cell below.\n",
    "\n",
    "The homework set carries a total of 20 points. Square brackets in the assignment titles specify individual point contributions."
   ]
  },
  {
   "cell_type": "markdown",
   "metadata": {},
   "source": [
    "## Name: Shayan Ali Khan"
   ]
  },
  {
   "cell_type": "markdown",
   "metadata": {},
   "source": [
    "---\n",
    "---"
   ]
  },
  {
   "cell_type": "markdown",
   "metadata": {},
   "source": [
    "## Preparation"
   ]
  },
  {
   "cell_type": "markdown",
   "metadata": {},
   "source": [
    "Import the NumPy module in the standard way (prefix `np`)."
   ]
  },
  {
   "cell_type": "code",
   "execution_count": 1,
   "metadata": {},
   "outputs": [],
   "source": [
    "import numpy as np"
   ]
  },
  {
   "cell_type": "markdown",
   "metadata": {},
   "source": [
    "On the module platform you find data files of the form `pdl04dat_SID.txt` where `SID` is a three-digit student ID. Each file contains three timeseries of synthetic temperature measurements, provided for demonstrating the assignment *Functions of NumPy arrays*.\n",
    "\n",
    "- Identify the file `pdl04dat_SID.txt` with your personal student ID `SID`, then upload it to the working directory, i.e., the folder where this Jupyter notebook resides.\n",
    "- The files `pdl04dat_100.txt` and `pdl04sol_100.txt` are provided to demonstrate the assignment. Upload the two files also to the working directory."
   ]
  },
  {
   "cell_type": "markdown",
   "metadata": {},
   "source": [
    "## Assignment: NumPy arrays from Python lists [3]"
   ]
  },
  {
   "cell_type": "markdown",
   "metadata": {},
   "source": [
    "Complete the code cell below according to the instructions included as comments. In each case the resulting NumPy array and its `dtype` are to be displayed using the function `print()`."
   ]
  },
  {
   "cell_type": "code",
   "execution_count": 3,
   "metadata": {},
   "outputs": [
    {
     "name": "stdout",
     "output_type": "stream",
     "text": [
      "a01: [ 3  5  7 11  3  5  7 11  3  5  7 11] int32\n",
      "a02: [ 1  5  7 11  3  5  7 11  3  5  1 11] int32\n",
      "a03: [ -7  -5  -3 -11] int32\n",
      "a04: [ 3.  5.  7. 11.  3.  5.  7. 11.  3.  5.  7. 11.] float64\n"
     ]
    }
   ],
   "source": [
    "### Consider the following one-dimensional NumPy array of integers\n",
    "a01 = np.array(3*[3,5,7,11])\n",
    "print('a01:',a01,a01.dtype)\n",
    "### Create a copy a02 of a01 with the first and the second-last element changed to unity (integer 1).\n",
    "a02 = np.copy(a01)\n",
    "a02[0] = 1\n",
    "a02[-2] = 1\n",
    "print('a02:',a02,a02.dtype)\n",
    "### Create a copy a03 of a01, then apply striding to reverse the sign of every third element of a04.\n",
    "a03 = np.copy(a01)\n",
    "a03 = a03[2::3] * -1\n",
    "print('a03:',a03,a03.dtype)\n",
    "### Using np.array(), create a copy a04 of a01 but with entries of type float64.\n",
    "a04 = np.copy(a01)\n",
    "a04 = a04.astype('float64')\n",
    "print('a04:',a04,a04.dtype)"
   ]
  },
  {
   "cell_type": "markdown",
   "metadata": {},
   "source": [
    "## Assignment: Multi-dimensional arrays [3]"
   ]
  },
  {
   "cell_type": "markdown",
   "metadata": {},
   "source": [
    "Complete the code cell below according to the instructions included as comments. In each case the resulting NumPy array is to be displayed using the function `print()`."
   ]
  },
  {
   "cell_type": "code",
   "execution_count": 5,
   "metadata": {},
   "outputs": [
    {
     "name": "stdout",
     "output_type": "stream",
     "text": [
      "[['a' 'b' 'c' 'd' 'e']\n",
      " ['f' 'g' 'h' 'i' 'j']\n",
      " ['k' 'l' 'm' 'n' 'o']]\n",
      "[['a' 'b' 'c' '1' 'e']\n",
      " ['f' 'g' 'h' '2' 'j']\n",
      " ['k' 'l' 'm' '3' 'o']]\n",
      "[['a' 'b' 'c' 'd' 'e']\n",
      " ['f' '4' '5' '6' 'j']\n",
      " ['k' 'l' 'm' 'n' 'o']]\n",
      "[['a' '7' 'c' '7' 'e']\n",
      " ['7' 'g' '7' 'i' '7']\n",
      " ['k' '7' 'm' '7' 'o']]\n"
     ]
    }
   ],
   "source": [
    "### Consider the following two-dimensional NumPy array of strings\n",
    "a05 = np.array(list('abcdefghijklmno')).reshape(3,5)\n",
    "print(a05)\n",
    "### Create a copy a06 of a05 and change the entries 'd','i','n' to '1','2','3'\n",
    "a06 = np.copy(a05)\n",
    "a06[0,3] = '1'\n",
    "a06[1,3] = '2'\n",
    "a06[2,3] = '3'\n",
    "print(a06)\n",
    "### Create a copy a07 of a05 and change the entries 'g','h','i' to '4','5','6'\n",
    "a07 = np.copy(a05)\n",
    "a07[1,1] = '4'\n",
    "a07[1,2] = '5'\n",
    "a07[1,3] = '6'\n",
    "print(a07)\n",
    "### In a05, replace every second character of the alphabet with '7'.\n",
    "a05 = a05.flatten()\n",
    "a05[1::2] = '7'\n",
    "a05 = a05.reshape(3,5)\n",
    "print(a05)"
   ]
  },
  {
   "cell_type": "markdown",
   "metadata": {},
   "source": [
    "## Assignment: Uniform NumPy arrays and range expressions [4]"
   ]
  },
  {
   "cell_type": "markdown",
   "metadata": {},
   "source": [
    "Complete the code cell below according to the instructions included as comments. More specifically, replace the occurences of `42` with meaningful NumPy functions."
   ]
  },
  {
   "cell_type": "code",
   "execution_count": 6,
   "metadata": {},
   "outputs": [
    {
     "name": "stdout",
     "output_type": "stream",
     "text": [
      "[['Hi!' 'Hi!' 'Hi!' 'Hi!' 'Hi!' 'Hi!' 'Hi!']\n",
      " ['Hi!' 'Hi!' 'Hi!' 'Hi!' 'Hi!' 'Hi!' 'Hi!']]\n",
      "[[-999.9 -999.9 -999.9 -999.9 -999.9]\n",
      " [-999.9 -999.9 -999.9 -999.9 -999.9]\n",
      " [-999.9 -999.9 -999.9 -999.9 -999.9]]\n",
      "[23 20 17 14 11]\n",
      "[-2.3 -1.9 -1.5 -1.1]\n"
     ]
    }
   ],
   "source": [
    "### Using np.full(), print a uniform NumPy array of shape (2,7) filled with the string 'Hi!'.\n",
    "print(np.full((2,7),'Hi!'))\n",
    "### Using np.ones(), print a uniform NumPy array of shape (3,5) filled with the float -999.9.\n",
    "print(-1000.9+np.ones((3,5)))\n",
    "### Using np.arange(), print the one-dimensional integer array [23,20,17,14,11] (in this order).\n",
    "print(np.arange(23,10,-3))\n",
    "### Using np.linspace(), print the one-dimensional floating-point array [-2.3,-1.9,-1.5,-1.1].\n",
    "print(np.linspace(-2.3,-1.1,4))"
   ]
  },
  {
   "cell_type": "markdown",
   "metadata": {},
   "source": [
    "## Assignment: Array filtering using boolean masks [4]"
   ]
  },
  {
   "cell_type": "markdown",
   "metadata": {},
   "source": [
    "Complete the code cell below according to the instructions included as comments. In each case the resulting NumPy array is to be displayed using the function `print()`."
   ]
  },
  {
   "cell_type": "code",
   "execution_count": 7,
   "metadata": {},
   "outputs": [
    {
     "name": "stdout",
     "output_type": "stream",
     "text": [
      "[[ -6  -1   4   6  10]\n",
      " [ -1  -9   7  -9   7]\n",
      " [ -3 -10   6   7   2]]\n",
      "[[ True  True False False False]\n",
      " [ True  True False  True False]\n",
      " [ True  True False False False]]\n",
      "[[ True False  True  True  True]\n",
      " [False False False False False]\n",
      " [False  True  True False  True]]\n",
      "[[ True False False False False]\n",
      " [False False False False False]\n",
      " [False  True False False False]]\n",
      "[[42 -1  4  6 10]\n",
      " [-1 -9  7 -9  7]\n",
      " [-3 42  6  7  2]]\n"
     ]
    }
   ],
   "source": [
    "### Consider the following two-dimensional array of integer random numbers in the interval [0,10].\n",
    "a08 = -10 + np.random.randint(21,size=(3,5))\n",
    "print(a08)\n",
    "### Create a boolean mask indicating negative numbers.\n",
    "mask1 = a08 < 0\n",
    "print(mask1)\n",
    "### Create a boolean mask indicating even numbers (hint: module operator %).\n",
    "mask2 = a08 % 2 == 0\n",
    "print(mask2)\n",
    "### Create a boolean mask indicating negative even numbers.\n",
    "mask3 = (a08 % 2 == 0) & (a08 < 0)\n",
    "print(mask3)\n",
    "### Replace negative even numbers with the integer 42.\n",
    "a08[mask3] = 42\n",
    "print(a08)"
   ]
  },
  {
   "cell_type": "markdown",
   "metadata": {},
   "source": [
    "## Assignment: Functions of NumPy arrays [6]"
   ]
  },
  {
   "cell_type": "markdown",
   "metadata": {},
   "source": [
    "Consider the data files of the form `pdl04dat_SID.txt` where `SID` is a three-digit student ID. Each file contains timeseries of synthetic temperature measurements over one year at three stations A, B, and C in the second, third, and fourth column (column indices 1,2,3), respectively. The first column (index 0) contains a day counter."
   ]
  },
  {
   "cell_type": "markdown",
   "metadata": {},
   "source": [
    "Complete the code cell below according to the instructions included as comments. More specifically, replace the occurences of `42` with meaningful NumPy functions.\n",
    "\n",
    "- *Mean values of indiviual columms*: these are the annual means for the three stations A, B, C.\n",
    "- *Number of maxima within columns*: for each station X, this is the number of days when the temperature measured at X is the largest of all three stations. Hint: NumPy functions `argmax()` and `sum()`.\n",
    "- *Number of minima within columns*: for each station X, this is the number of days when the temperature measured at X is the smallest of all three stations. Hint: NumPy functions `argmin()` and `sum()`."
   ]
  },
  {
   "cell_type": "code",
   "execution_count": 18,
   "metadata": {},
   "outputs": [
    {
     "name": "stdout",
     "output_type": "stream",
     "text": [
      "\n",
      "\n",
      "Student-ID: 244\n",
      "\n",
      "\n",
      "Station A, annual mean: 289.939\n",
      "Station B, annual mean: 289.730\n",
      "Station C, annual mean: 290.054\n",
      "\n",
      "\n",
      "Station A, number of maxima: 135\n",
      "Station B, number of maxima:  92\n",
      "Station C, number of maxima: 138\n",
      "\n",
      "\n",
      "Station A, number of minima: 129\n",
      "Station B, number of minima: 101\n",
      "Station C, number of minima: 135\n",
      "\n",
      "\n"
     ]
    }
   ],
   "source": [
    "### Test the code with SID=100, then use your personal student ID for the final run of the notebook.\n",
    "SID = 244\n",
    "### Store all four columns of the file pdl04dat_SID.txt in the two-dimensional array data.\n",
    "data = np.genfromtxt('pdl04dat_'+str(SID)+'.txt',skip_header=1)\n",
    "### Remove the first column of the two-dimensional array data.\n",
    "data = data[:,1:]\n",
    "### Print: student ID and empty line.\n",
    "print('\\n')\n",
    "print('Student-ID: {}'.format(SID))\n",
    "print('\\n')\n",
    "#.. Print: mean values of individual columns.\n",
    "print('Station A, annual mean: {:7.3f}'.format(data.mean(axis = 0)[0]))\n",
    "print('Station B, annual mean: {:7.3f}'.format(data.mean(axis = 0)[1]))\n",
    "print('Station C, annual mean: {:7.3f}'.format(data.mean(axis = 0)[2]))\n",
    "print('\\n')\n",
    "#.. Print: number of maxima within columns.\n",
    "print('Station A, number of maxima: {:3d}'.format(np.sum(np.argmax(data, axis = 1) == 0)))\n",
    "print('Station B, number of maxima: {:3d}'.format(np.sum(np.argmax(data, axis = 1) == 1)))\n",
    "print('Station C, number of maxima: {:3d}'.format(np.sum(np.argmax(data, axis = 1) == 2)))\n",
    "print('\\n')\n",
    "#.. Print: number of minima within columns.\n",
    "print('Station A, number of minima: {:3d}'.format(np.sum(np.argmin(data, axis = 1) == 0)))\n",
    "print('Station B, number of minima: {:3d}'.format(np.sum(np.argmin(data, axis = 1) == 1)))\n",
    "print('Station C, number of minima: {:3d}'.format(np.sum(np.argmin(data, axis = 1) == 2)))\n",
    "print('\\n')"
   ]
  },
  {
   "cell_type": "markdown",
   "metadata": {},
   "source": [
    "Here is the output that you should obtain for `SID = 100`, i.e., for the sample data file `pdl04dat_100.txt`."
   ]
  },
  {
   "cell_type": "code",
   "execution_count": 16,
   "metadata": {},
   "outputs": [
    {
     "name": "stdout",
     "output_type": "stream",
     "text": [
      "\n",
      "Student-ID: 100\n",
      "\n",
      "Station A, annual mean: 290.611\n",
      "Station B, annual mean: 290.326\n",
      "Station C, annual mean: 290.764\n",
      "\n",
      "Station A, number of maxima: 135\n",
      "Station B, number of maxima:  92\n",
      "Station C, number of maxima: 138\n",
      "\n",
      "Station A, number of minima: 131\n",
      "Station B, number of minima: 108\n",
      "Station C, number of minima: 126\n",
      "\n",
      "\n"
     ]
    }
   ],
   "source": [
    "f = open('pdl04sol_100.txt','r')\n",
    "smpout = f.read()\n",
    "f.close()\n",
    "print(smpout)"
   ]
  },
  {
   "cell_type": "markdown",
   "metadata": {},
   "source": [
    "---\n",
    "---"
   ]
  }
 ],
 "metadata": {
  "kernelspec": {
   "display_name": "Python 3 (ipykernel)",
   "language": "python",
   "name": "python3"
  },
  "language_info": {
   "codemirror_mode": {
    "name": "ipython",
    "version": 3
   },
   "file_extension": ".py",
   "mimetype": "text/x-python",
   "name": "python",
   "nbconvert_exporter": "python",
   "pygments_lexer": "ipython3",
   "version": "3.9.12"
  }
 },
 "nbformat": 4,
 "nbformat_minor": 4
}
