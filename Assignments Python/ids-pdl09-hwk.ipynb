{
 "cells": [
  {
   "cell_type": "markdown",
   "metadata": {},
   "source": [
    "**ids-pdl09-hwk.ipynb**: This Jupyter notebook is provided by Joachim Vogt for the _Python Data Lab_ of the module _Introduction to Data Science_ offered in Fall 2022 at Jacobs University Bremen. Module instructors are Hilke Brockmann, Adalbert Wilhelm, and Joachim Vogt. Jupyter notebooks and other learning resources are available from a dedicated _module platform_."
   ]
  },
  {
   "cell_type": "markdown",
   "metadata": {},
   "source": [
    "# Homework assignments: Working with Pandas"
   ]
  },
  {
   "cell_type": "markdown",
   "metadata": {},
   "source": [
    "The homework assignments in this notebook supplement the tutorial *Working with Pandas*.\n",
    "\n",
    "- Solve the assignments according to the instructions.\n",
    "- Upload the completed notebook to the module platform.\n",
    "- Do not forget to enter your name in the markdown cell below.\n",
    "\n",
    "The homework set carries a total of 20 points. Square brackets in the assignment titles specify individual point contributions."
   ]
  },
  {
   "cell_type": "markdown",
   "metadata": {},
   "source": [
    "## Name: "
   ]
  },
  {
   "cell_type": "markdown",
   "metadata": {},
   "source": [
    "---\n",
    "---"
   ]
  },
  {
   "cell_type": "markdown",
   "metadata": {},
   "source": [
    "## Preparation"
   ]
  },
  {
   "cell_type": "markdown",
   "metadata": {},
   "source": [
    "Import NumPy, `pyplot` from matplotlib, and Pandas as usual."
   ]
  },
  {
   "cell_type": "code",
   "execution_count": null,
   "metadata": {},
   "outputs": [],
   "source": [
    "import numpy as np\n",
    "import matplotlib.pyplot as plt\n",
    "import pandas as pd\n",
    "%matplotlib inline"
   ]
  },
  {
   "cell_type": "markdown",
   "metadata": {},
   "source": [
    "The following data files are expected to reside in the working directory. Identify the files on the module platform and upload them to the same folder as this Jupyter notebook.\n",
    "\n",
    "- `gdp-per-capita-in-us-dollar-world-bank.csv`: GDP per capita in constant 2010 US dollars 1960-2020, published by the [World Bank, 2021-07-30](http://data.worldbank.org/data-catalog/world-development-indicators), available from [Our World in Data](https://ourworldindata.org/grapher/gdp-per-capita-in-us-dollar-world-bank).\n",
    "- `life-expectancy-at-birth-total-years.csv`: Life expectancy at birth 1960-2019, published by the [World Bank, 2021-07-30](http://data.worldbank.org/data-catalog/world-development-indicators), available from [Our World in Data](https://ourworldindata.org/grapher/life-expectancy-at-birth-total-years).\n",
    "- `leb_gdpint_decade.png`: graphics of a table to be reproduced in the assignment *Pivot tables*."
   ]
  },
  {
   "cell_type": "markdown",
   "metadata": {},
   "source": [
    "## Assignment: Hierarchical indexing [5]"
   ]
  },
  {
   "cell_type": "markdown",
   "metadata": {},
   "source": [
    "According to [Wikipedia (accessed on 2022-07-26)](https://de.wikipedia.org/wiki/Liste_der_Gro%C3%9F-_und_Mittelst%C3%A4dte_in_Deutschland), the resident numbers of Berlin, Cologne, Hamburg, Munich in the years 1980, 2000, 2020/21 were as follows.\n",
    "\n",
    "| City     | 1980    | 2000    | 2020/21 |\n",
    "|:---------|:-------:|:-------:|:-------:|\n",
    "| Berlin   | 3048759 | 3382169 | 3677472 | \t\n",
    "| Cologne  |  976694 |  962884 | 1073096 |\n",
    "| Hamburg  | 1645095 | 1715392 | 1853935 |\n",
    "| Munich   | 1298941 | 1210223 | 1487708 |\n",
    "\n",
    "In the cell below,\n",
    "\n",
    "1. store the three sets of resident numbers for the years 1980, 2000, 2020/21 in a single Pandas DataFrame object `ResA` indexed by the city names,\n",
    "2. apply the function `stack()` to `ResA` and store the result in a Pandas Series object `ResB`,\n",
    "3. from `ResB` obtain the index (a MultiIndex object) and store it as `IndB`,  \n",
    "4. using the Pandas function `MultiIndex.from_arrays()`, construct a MultiIndex object `IndC` identical to `IndB`,\n",
    "5. using the Pandas function `MultiIndex.from_product()`, construct a MultiIndex object `IndD` identical to `IndB`."
   ]
  },
  {
   "cell_type": "code",
   "execution_count": null,
   "metadata": {},
   "outputs": [],
   "source": [
    "### Construct and display Pandas DataFrame ResA.\n",
    "\n",
    "### Stack ResA to obtain ResB.\n",
    "\n",
    "### Store the index of ResB in variable IndB, then display.\n",
    "\n",
    "### Construct and display MultiIndex object IndC from arrays.\n",
    "\n",
    "### Construct and display MultiIndex object IndD from product.\n"
   ]
  },
  {
   "cell_type": "markdown",
   "metadata": {},
   "source": [
    "## Assignment: GroupBy mechanism [8]"
   ]
  },
  {
   "cell_type": "markdown",
   "metadata": {},
   "source": [
    "The file `gdp-per-capita-in-us-dollar-world-bank.csv` contains data on GDP per capita in constant 2010 US dollars 1960-2020, as published by the [World Bank on 2021-07-30](http://data.worldbank.org/data-catalog/world-development-indicators), and made available through [Our World in Data](https://ourworldindata.org/grapher/gdp-per-capita-in-us-dollar-world-bank).\n",
    "\n",
    "- Click on the filename in the directory listing to display the content of this comma-separated text file to study the structure.\n",
    "- Consult the associated tutorial notebook `ids-pdl09-tut.ipynb` and study how the data from the file `life-expectancy-at-birth-total-years.csv` are processed.\n",
    "- The same processing steps are to be applied to the GDP per capita data from the file `gdp-per-capita-in-us-dollar-world-bank.csv`. Details are given below."
   ]
  },
  {
   "cell_type": "markdown",
   "metadata": {},
   "source": [
    "Using the Pandas function `read_csv()`, the data are loaded and stored in a DataFrame."
   ]
  },
  {
   "cell_type": "code",
   "execution_count": null,
   "metadata": {},
   "outputs": [],
   "source": []
  },
  {
   "cell_type": "markdown",
   "metadata": {},
   "source": [
    "From the full DataFrame `gdp_full`, remove rows for entities that are not single countries but world regions."
   ]
  },
  {
   "cell_type": "code",
   "execution_count": null,
   "metadata": {},
   "outputs": [],
   "source": []
  },
  {
   "cell_type": "markdown",
   "metadata": {},
   "source": [
    "Rename the GDP per capita column label to `'GDP/cap.'`."
   ]
  },
  {
   "cell_type": "code",
   "execution_count": null,
   "metadata": {},
   "outputs": [],
   "source": []
  },
  {
   "cell_type": "markdown",
   "metadata": {},
   "source": [
    "Store the column of GDP per capita values."
   ]
  },
  {
   "cell_type": "code",
   "execution_count": null,
   "metadata": {},
   "outputs": [],
   "source": []
  },
  {
   "cell_type": "markdown",
   "metadata": {},
   "source": [
    "Construct the MultiIndex object from the `'Code'` and `'Year'` columns."
   ]
  },
  {
   "cell_type": "code",
   "execution_count": null,
   "metadata": {},
   "outputs": [],
   "source": []
  },
  {
   "cell_type": "markdown",
   "metadata": {},
   "source": [
    "Using the array of GDP per capita values with the MultiIndex object as an index, we construct a Series object that is then unstacked to yield a DataFrame in the desired format."
   ]
  },
  {
   "cell_type": "code",
   "execution_count": null,
   "metadata": {},
   "outputs": [],
   "source": []
  },
  {
   "cell_type": "markdown",
   "metadata": {},
   "source": [
    "Rows and columns are swapped through the application of `transpose()`."
   ]
  },
  {
   "cell_type": "code",
   "execution_count": null,
   "metadata": {},
   "outputs": [],
   "source": []
  },
  {
   "cell_type": "markdown",
   "metadata": {},
   "source": [
    "Apply the `describe()` method to obtain summary statistics of a DataFrame."
   ]
  },
  {
   "cell_type": "code",
   "execution_count": null,
   "metadata": {},
   "outputs": [],
   "source": []
  },
  {
   "cell_type": "markdown",
   "metadata": {},
   "source": [
    "Apply the GroupBy mechanism to aggregate the GDP per capita data from the DataFrame `gdp_full` in decades, using `min`, `median`, and `max` as aggregation functions.\n",
    "\n",
    "*Hint*: Consult [section 3.08 Aggregation and Grouping](https://jakevdp.github.io/PythonDataScienceHandbook/03.08-aggregation-and-grouping.html) of the \n",
    "[Python Data Science Handbook by Jake Vanderplas](https://jakevdp.github.io/PythonDataScienceHandbook/) for an effective implementation of decade aggregation."
   ]
  },
  {
   "cell_type": "code",
   "execution_count": null,
   "metadata": {},
   "outputs": [],
   "source": []
  },
  {
   "cell_type": "markdown",
   "metadata": {},
   "source": [
    "## Assignment: Pivot tables [7]"
   ]
  },
  {
   "cell_type": "markdown",
   "metadata": {},
   "source": [
    "The pivot table below shows the median life expectancy at birth in the six decades since 1960 for selected intervals of GDP per capita in 2010 US\\$. As before, all statistics are based on the country distributions given in the files `life-expectancy-at-birth-total-years.csv` and `gdp-per-capita-in-us-dollar-world-bank.csv`.\n",
    "\n",
    "![](leb_gdpint_decade.png)\n",
    "\n",
    "Follow the instructions below to reproduce this pivot table."
   ]
  },
  {
   "cell_type": "markdown",
   "metadata": {},
   "source": [
    "Using the Pandas functions `read_csv()` and `merge()`, join the contents of the files `life-expectancy-at-birth-total-years.csv` and `gdp-per-capita-in-us-dollar-world-bank.csv` to obtain a single Pandas DataFrame object `leb_gdp`. Drop undefined data and world regions, keeping only data from indvidual countries, and rename inconveniently long column labels. See the first session of the Python Data Lab for an implementation of this sequence of operations."
   ]
  },
  {
   "cell_type": "code",
   "execution_count": null,
   "metadata": {},
   "outputs": [],
   "source": []
  },
  {
   "cell_type": "markdown",
   "metadata": {},
   "source": [
    "Construct the variable `decade` from the `Year` column of the DataFrame `leb_gdp`."
   ]
  },
  {
   "cell_type": "code",
   "execution_count": null,
   "metadata": {},
   "outputs": [],
   "source": []
  },
  {
   "cell_type": "markdown",
   "metadata": {},
   "source": [
    "Using the Pandas function `cut()`, define partitions of the GDP per capita data column in `leb_gdp` into intervals with boundaries `0,300,1000,3000,10000,30000,100000,300000`, and save them in the variable `gdp_partition`."
   ]
  },
  {
   "cell_type": "code",
   "execution_count": null,
   "metadata": {},
   "outputs": [],
   "source": []
  },
  {
   "cell_type": "markdown",
   "metadata": {},
   "source": [
    "Call the Pandas function `pivot_table()` on the life expectancy at birth column as key variable, with `decade` and `gdp_partition` as further arguments, and `median` as the aggregation function. "
   ]
  },
  {
   "cell_type": "code",
   "execution_count": null,
   "metadata": {},
   "outputs": [],
   "source": []
  },
  {
   "cell_type": "markdown",
   "metadata": {},
   "source": [
    "---\n",
    "---"
   ]
  }
 ],
 "metadata": {
  "kernelspec": {
   "display_name": "Python 3",
   "language": "python",
   "name": "python3"
  },
  "language_info": {
   "codemirror_mode": {
    "name": "ipython",
    "version": 3
   },
   "file_extension": ".py",
   "mimetype": "text/x-python",
   "name": "python",
   "nbconvert_exporter": "python",
   "pygments_lexer": "ipython3",
   "version": "3.8.3"
  }
 },
 "nbformat": 4,
 "nbformat_minor": 4
}
