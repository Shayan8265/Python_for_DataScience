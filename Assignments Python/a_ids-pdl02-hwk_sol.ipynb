{
 "cells": [
  {
   "cell_type": "markdown",
   "metadata": {},
   "source": [
    "**ids-pdl02-hwk.ipynb**: This Jupyter notebook is provided by Joachim Vogt for the _Python Data Lab_ of the module _Introduction to Data Science_ offered in Fall 2022 at Jacobs University Bremen. Module instructors are Hilke Brockmann, Adalbert Wilhelm, and Joachim Vogt. Jupyter notebooks and other learning resources are available from a dedicated _module platform_."
   ]
  },
  {
   "cell_type": "markdown",
   "metadata": {},
   "source": [
    "# Homework: Jupyter basics and numerical data types"
   ]
  },
  {
   "cell_type": "markdown",
   "metadata": {},
   "source": [
    "The homework assignments in this notebook supplement the tutorial *Jupyter basics and numerical data types*.\n",
    "\n",
    "- Solve the assignments according to the instructions.\n",
    "- Upload the completed notebook to the module platform.\n",
    "- Do not forget to enter your name in the markdown cell below.\n",
    "\n",
    "The homework set carries a total of 20 points. Square brackets in the assignment titles specify individual point contributions."
   ]
  },
  {
   "cell_type": "markdown",
   "metadata": {},
   "source": [
    "## Name: Shayan Ali Khan"
   ]
  },
  {
   "cell_type": "markdown",
   "metadata": {},
   "source": [
    "---"
   ]
  },
  {
   "cell_type": "markdown",
   "metadata": {},
   "source": [
    "## Preparation"
   ]
  },
  {
   "cell_type": "markdown",
   "metadata": {},
   "source": [
    "The graphics file `mdhomework.png` is expected to reside in the working directory. Identify the file on the module platform and upload it to the same folder as this Jupyter notebook."
   ]
  },
  {
   "cell_type": "markdown",
   "metadata": {},
   "source": [
    "## Assignment: Markdown language [6]"
   ]
  },
  {
   "cell_type": "markdown",
   "metadata": {},
   "source": [
    "Create a new markdown cell and typeset the short piece of formatted text captured by the graphics file `mdhomework.png` displayed below. Note that the *United Nations* hyperlink is supposed to point to the URL `https://www.un.org`.\n",
    "\n",
    "![](mdhomework.png)"
   ]
  },
  {
   "cell_type": "markdown",
   "metadata": {},
   "source": [
    "---\n",
    "[United Nations](https://www.un.org) General Assembly Resolution 217 (Ill), 1948\n",
    "\n",
    "* Article 1. All human beings are born free and equal in dignity and rights. They are endowed with reason and conscience and should act towards one another in a spirit of brotherhood.\n",
    "\n",
    "* Article 2. Everyone is entitled to all the rights and freedoms set forth in this Declaration, without distinction of any kind [...]\n",
    "\n",
    "* Article 3. Everyone has the right to life, liberty and security of person.\n",
    "* [...]\n",
    "---\n",
    "#### Level-four Header(4 hash marks)\n",
    "> This blockquote separates a **level-four header** from a *level-five* header.\n",
    "##### Level-five header(5 hash marks)\n",
    "/> This is not a blockquote\n",
    "in Python, integers and strings are oo types(classes) `int` and `str`\n",
    "\n",
    "\n",
    "\n",
    "\n",
    "\n",
    "\n",
    "\n",
    "\n"
   ]
  },
  {
   "cell_type": "markdown",
   "metadata": {},
   "source": [
    "## Assignment: Basic arithmetics [4]"
   ]
  },
  {
   "cell_type": "markdown",
   "metadata": {},
   "source": [
    "Create a new code cell, set $a=2$, $b=8$, $c=-4$, then compute and print out $a+bc$, $b-\\frac{c}{a}$, $b+c-\\frac{a}{b}$, $a^b-b^a$."
   ]
  },
  {
   "cell_type": "code",
   "execution_count": 8,
   "metadata": {},
   "outputs": [
    {
     "name": "stdout",
     "output_type": "stream",
     "text": [
      "-30\n",
      "10.0\n",
      "3.75\n",
      "192\n"
     ]
    }
   ],
   "source": [
    "a, b, c = 2, 8, -4\n",
    "print(a + (b * c))\n",
    "print(b - (c / a))\n",
    "print(b + c - (a / b))\n",
    "print((a**b) - (b**a))"
   ]
  },
  {
   "cell_type": "markdown",
   "metadata": {},
   "source": [
    "## Assignment: Numerical data types [5]"
   ]
  },
  {
   "cell_type": "markdown",
   "metadata": {},
   "source": [
    "Complete the code cell below according to the instructions included as comments."
   ]
  },
  {
   "cell_type": "code",
   "execution_count": 16,
   "metadata": {},
   "outputs": [
    {
     "name": "stdout",
     "output_type": "stream",
     "text": [
      "77.4 <class 'float'>\n",
      "-5608.8 <class 'float'>\n",
      "-666.0 <class 'float'>\n",
      "11.090536506409418 <class 'float'>\n",
      "-46 <class 'int'>\n"
     ]
    }
   ],
   "source": [
    "import math\n",
    "n = 123\n",
    "x = -45.6\n",
    "y = 7.89e2\n",
    "###Compute sum and product of n and x, show the data types\n",
    "s = n + x\n",
    "print(s,type(s))\n",
    "p = n * x\n",
    "print(p,type(p))\n",
    "###Subtract n from y, show the data type\n",
    "a = n - y\n",
    "print(a, type(a))\n",
    "###Compute the square root of n, show the data type\n",
    "w = math.sqrt(n)\n",
    "print(w, type(w))\n",
    "###Compute the largest integer smaller than x, show the data type\n",
    "v = math.floor(x)\n",
    "print(v, type(v))"
   ]
  },
  {
   "cell_type": "markdown",
   "metadata": {},
   "source": [
    "## Assignment: Boolean expressions [5]"
   ]
  },
  {
   "cell_type": "markdown",
   "metadata": {},
   "source": [
    "Complete the code cell below according to the instructions included as comments."
   ]
  },
  {
   "cell_type": "code",
   "execution_count": 2,
   "metadata": {},
   "outputs": [
    {
     "name": "stdout",
     "output_type": "stream",
     "text": [
      "True\n",
      "True\n",
      "True\n",
      "False\n",
      "True\n"
     ]
    }
   ],
   "source": [
    "### Define integers a,b,c,x1,x2,y1,y2.\n",
    "a = 2\n",
    "b = -6\n",
    "c = 4\n",
    "x1 = 1\n",
    "x2 = 2\n",
    "y1 = 1\n",
    "y2 = 2\n",
    "### Check if b*b is larger than 4*a*c.\n",
    "mo = (b * b) > 4*(a * c)\n",
    "print(mo)\n",
    "### Check if a*x1**2 + b*x1 + c is zero.\n",
    "n = (a * (x1**2)) + (b * x1) + c == 0                                   \n",
    "print(n)\n",
    "### Check if a*x2**2 + b*x2 + c is zero.\n",
    "k = (a*x2**2) + (b*x2) + c == 0\n",
    "print(k)\n",
    "### Check if y1 is in the half-open interval ]x1,x2].\n",
    "e =  (y1 > x1) and (y1 <= x2) \n",
    "print(e)\n",
    "### Check if y2 is in the half-open interval ]x1,x2].\n",
    "y =  (y2 > x1) and (y2 <= x2) \n",
    "print(y)"
   ]
  },
  {
   "cell_type": "markdown",
   "metadata": {},
   "source": [
    "---\n",
    "---"
   ]
  }
 ],
 "metadata": {
  "kernelspec": {
   "display_name": "Python 3 (ipykernel)",
   "language": "python",
   "name": "python3"
  },
  "language_info": {
   "codemirror_mode": {
    "name": "ipython",
    "version": 3
   },
   "file_extension": ".py",
   "mimetype": "text/x-python",
   "name": "python",
   "nbconvert_exporter": "python",
   "pygments_lexer": "ipython3",
   "version": "3.9.12"
  }
 },
 "nbformat": 4,
 "nbformat_minor": 4
}
