{
 "cells": [
  {
   "cell_type": "markdown",
   "metadata": {},
   "source": [
    "**ids-pdl03-hwk.ipynb**: This Jupyter notebook is provided by Joachim Vogt for the _Python Data Lab_ of the module _Introduction to Data Science_ offered in Fall 2022 at Jacobs University Bremen. Module instructors are Hilke Brockmann, Adalbert Wilhelm, and Joachim Vogt. Jupyter notebooks and other learning resources are available from a dedicated _module platform_."
   ]
  },
  {
   "cell_type": "markdown",
   "metadata": {},
   "source": [
    "# Homework: Python strings and lists"
   ]
  },
  {
   "cell_type": "markdown",
   "metadata": {},
   "source": [
    "The homework assignments in this notebook supplement the tutorial *Python strings and lists*.\n",
    "\n",
    "- Solve the assignments according to the instructions.\n",
    "- Upload the completed notebook to the module platform.\n",
    "- Do not forget to enter your name in the markdown cell below.\n",
    "\n",
    "The homework set carries a total of 20 points. Square brackets in the assignment titles specify individual point contributions."
   ]
  },
  {
   "cell_type": "markdown",
   "metadata": {},
   "source": [
    "## Name: Shayan Ali Khan"
   ]
  },
  {
   "cell_type": "markdown",
   "metadata": {},
   "source": [
    "---"
   ]
  },
  {
   "cell_type": "markdown",
   "metadata": {},
   "source": [
    "## Preparation"
   ]
  },
  {
   "cell_type": "markdown",
   "metadata": {},
   "source": [
    "On the module platform you find data files of the form `pdl03dat_SID.csv` where `SID` is a three-digit student ID. Each file contains three timeseries of synthetic temperature measurements, provided for demonstrating the assignment *File handling*.\n",
    "\n",
    "- Identify the file `pdl03dat_SID.csv` with your personal student ID `SID`, then upload it to the working directory, i.e., the folder where this Jupyter notebook resides.\n",
    "- The files `pdl03dat_100.csv`, `pdl03new_100.csv`, and `pdl03gap_100.txt`  are provided to demonstrate the assignment. Upload the three files also to the working directory."
   ]
  },
  {
   "cell_type": "markdown",
   "metadata": {},
   "source": [
    "## Assignment: String variables [5]"
   ]
  },
  {
   "cell_type": "markdown",
   "metadata": {},
   "source": [
    "Run the following code cell to initialize several lists containing personal data of politicians and musicians. Note that lowercase and uppercase characters are unordered within individual words."
   ]
  },
  {
   "cell_type": "code",
   "execution_count": 3,
   "metadata": {},
   "outputs": [],
   "source": [
    "firstnames = ['jOHANN','marGReT','lYNdoN','elViS','ARethA']\n",
    "middleinitial = ['S','H','B','A','L']\n",
    "lastnames = ['BaCH','tHATcher','JOhnSon','preSLEY','FrankLIn']\n",
    "profession = ['MUSIciAn','pOLitiCIAN','POLItician','musICIAN','mUsicIAn',]\n",
    "birthyear = [1685,1925,1908,1935,1942]"
   ]
  },
  {
   "cell_type": "markdown",
   "metadata": {},
   "source": [
    "Complete the code cell below according to the instructions included as comments. With `ind = 3` the final output string should be\n",
    "\n",
    "> `The musician Elvis A. Presley was born in the year 1935.`\n",
    "\n",
    "Vary the parameter `ind` (list index) between 0 and 4 and check the results. For the final run, set `ind = 4`."
   ]
  },
  {
   "cell_type": "code",
   "execution_count": 41,
   "metadata": {},
   "outputs": [
    {
     "name": "stdout",
     "output_type": "stream",
     "text": [
      "Aretha\n",
      "L.\n",
      "Franklin\n",
      "musician\n",
      "1942\n",
      "The musician Elvis A. Presley was born in the year 1935.\n"
     ]
    }
   ],
   "source": [
    "ind = 4\n",
    "fn = firstnames[ind]\n",
    "mi = middleinitial[ind]\n",
    "ln = lastnames[ind]\n",
    "pr = profession[ind]\n",
    "by = birthyear[ind]\n",
    "### Convert fn to lowercase, then capitalize the resulting string.\n",
    "print(fn.lower().capitalize())\n",
    "### Concatenate mi with the string '.'\n",
    "s1 = mi + '.'\n",
    "print(s1)\n",
    "### Convert ln to lowercase, then capitalize the resulting string.\n",
    "print(ln.lower().capitalize())\n",
    "### Convert pr to lowercase.\n",
    "print(pr.lower())\n",
    "### Convert by to a string (data type `str`).\n",
    "s2 = str(by)\n",
    "print(s2)\n",
    "### Use fn, mi, ln, pr, by to construct and display the final output string.\n",
    "byear = birthyear[3]\n",
    "fname = firstnames[3]\n",
    "lnames = lastnames[3]\n",
    "minitial = middleinitial[3]\n",
    "prof = profession[0]\n",
    "s3 = str(byear)\n",
    "s4 = 'The ' + prof.lower() + ' ' + fname.lower().capitalize() + ' ' +\\\n",
    "     minitial + '. ' + lnames.lower().capitalize() + ' was born in the year ' + s3 + '.'\n",
    "print(s4)"
   ]
  },
  {
   "cell_type": "markdown",
   "metadata": {},
   "source": [
    "## Assignment: Type conversion [5]"
   ]
  },
  {
   "cell_type": "markdown",
   "metadata": {},
   "source": [
    "Consider a string variable containing a large integer represented in standard scientific notation (period is in the second place, first character is non-zero) such as the following."
   ]
  },
  {
   "cell_type": "code",
   "execution_count": 75,
   "metadata": {},
   "outputs": [],
   "source": [
    "strnum = '9.8765432109876543210987e25'"
   ]
  },
  {
   "cell_type": "markdown",
   "metadata": {},
   "source": [
    "Direct conversion to integer type does not work. To take advantage of the non-approximate integer arithmetics in Python, the string variable must be decomposed and the integer representation reconstructed from the partial strings."
   ]
  },
  {
   "cell_type": "markdown",
   "metadata": {},
   "source": [
    "Complete the code cell below according to the instructions included as comments. The end result should be an integer representation of the string above. You are advised to check the string function `split()`. A convenient approach to constructing a string with `n` zeroes is to write `n*'0'`. To verify that the code works, check with smaller integers first."
   ]
  },
  {
   "cell_type": "code",
   "execution_count": 76,
   "metadata": {},
   "outputs": [
    {
     "name": "stdout",
     "output_type": "stream",
     "text": [
      "8765432109876543210987000\n"
     ]
    }
   ],
   "source": [
    "### Split the string at the exponentation character 'e', store in variable lstnum.\n",
    "lstnum = strnum.split('e')\n",
    "### Convert the second list element (index 1) from string to integer, store in variable pwrnum.\n",
    "pwrnum = int (lstnum[1])\n",
    "### Split the first list element (index 0) at the period '.', store in variable ampnum.\n",
    "ampnum = lstnum[0].split('.')\n",
    "### Store the number before the period (characteristic) and the fractional part (mantissa)\n",
    "### in the variable chrnum and mntnum, respectively.\n",
    "chrnum = ampnum[0]\n",
    "mntnum = ampnum[1]\n",
    "### Determine the length of the mantissa mntnum, store in variable lenmnt.\n",
    "lenmnt = len(mntnum)\n",
    "### Construct a string with the correct number (= pwrnum-lenmnt) of zeros to be appended.\n",
    "appzrs = (pwrnum - lenmnt) * '0'\n",
    "### Concatentate chrnum with mntnum and appzrs, then convert to integer.\n",
    "s1 = mntnum + appzrs\n",
    "s2 = int (s1)\n",
    "print(s2)"
   ]
  },
  {
   "cell_type": "markdown",
   "metadata": {},
   "source": [
    "## Assignment: Python lists [4]"
   ]
  },
  {
   "cell_type": "markdown",
   "metadata": {},
   "source": [
    "Complete the code cell below according to the instructions included as comments."
   ]
  },
  {
   "cell_type": "code",
   "execution_count": 22,
   "metadata": {},
   "outputs": [
    {
     "name": "stdout",
     "output_type": "stream",
     "text": [
      "['aaa', 0.2, 'bbb', 'aaa', 0.2, 'bbb', 95000.0, 23400000000.0, 1048576, 'ccc', -65]\n",
      "['bbb', 'aaa', 0.2]\n",
      "[0.2, 'bbb', 'ccc']\n",
      "['aaa', 0.2, 'bbb', 'ddd', 0.2, 'ddd', 95000.0, 23400000000.0, 1048576, 'ccc', -65]\n"
     ]
    }
   ],
   "source": [
    "### Define a sample Python list with elements of different types.\n",
    "mylist = 2*['aaa',0.2,'bbb'] + [9.5e4,2.34e10,2**20,'ccc',-65,]\n",
    "print(mylist)\n",
    "### Apply list slicing to extract and print a list with the third, fourth, fifth, and sixth element.\n",
    "print(mylist[2:5])\n",
    "### Apply list slicing to extract and print a list with the second, sixth, and tenth element.\n",
    "print(mylist[1:11:4])\n",
    "### Create an independent copy of the list and exchange the fourth and sixth element with 'ddd'.\n",
    "list2 = mylist.copy()\n",
    "list2[3],list2[5] = 'ddd', 'ddd'\n",
    "print(list2)"
   ]
  },
  {
   "cell_type": "markdown",
   "metadata": {},
   "source": [
    "## Assignment: File handling [6]"
   ]
  },
  {
   "cell_type": "markdown",
   "metadata": {},
   "source": [
    "In the comma-separated text file `pdl03dat_SID.csv`, the first column is time in the format hh:mm (hh: hour, mm: minute). The second column gives temperature in Kelvin, with the numerical value `-99.99` indicating an invalid measurement, i.e., a data gap."
   ]
  },
  {
   "cell_type": "markdown",
   "metadata": {},
   "source": [
    "Using the functions `open()` and `read()`, load the contents of the file `pdl03dat_SID.csv`. Count the total number of data gaps. Change the time format to hh.mm , i.e, replace the colon `:` with a period `.`. Furthermore, substitute all occurences of the missing value `-99.99` with the string `'NaN'`(not a number), and write the modified data to a new file `pdl03new_SID.csv`. Note that the string function `replace()` does not change the string variable itself but returns a copy."
   ]
  },
  {
   "cell_type": "code",
   "execution_count": 2,
   "metadata": {},
   "outputs": [
    {
     "name": "stdout",
     "output_type": "stream",
     "text": [
      "7\n"
     ]
    }
   ],
   "source": [
    "### Test the code with SID=100, then use your personal student ID for the final run of the notebook.\n",
    "SID = 244\n",
    "### Load file pdl03dat_SID.csv using open() and read() into string variable datcontent.\n",
    "pdl03dat = 'pdl03dat_'+str(SID)+'.csv'\n",
    "fptr = open(pdl03dat, 'r')\n",
    "datcontent = fptr.read()\n",
    "### Close file pdl03dat_SID.csv.\n",
    "fptr.close()\n",
    "### Count and print occurences of missing values.\n",
    "print(datcontent.count('-99.99'))\n",
    "### Replace '-99.99' with 'NaN', store in string variable newcontent.\n",
    "newcontent = datcontent.replace('-99.99', 'NaN')\n",
    "### In newcontent, change time format from hh:mm to hh.mm.\n",
    "newcontent = newcontent.replace('hh:mm','hh.mm')\n",
    "### Open new file pdl03new_SID.csv for writing.\n",
    "pdl03new = 'pdl03new_'+str(SID)+'.csv'\n",
    "fptr = open(pdl03new, 'w')\n",
    "### Write newcontent to file pdl03new_SID.csv.\n",
    "fptr.writelines(newcontent)\n",
    "### Close file pdl03new_SID.csv.\n",
    "fptr.close()"
   ]
  },
  {
   "cell_type": "markdown",
   "metadata": {},
   "source": [
    "\n",
    "\n",
    "Run the code cell below but do not change the Python instructions. The code cell is provided for the instructors and teaching assistants to facilitate a check of the output file."
   ]
  },
  {
   "cell_type": "code",
   "execution_count": 3,
   "metadata": {
    "scrolled": true
   },
   "outputs": [
    {
     "name": "stdout",
     "output_type": "stream",
     "text": [
      "Data gaps are at the following times:\n",
      "11:03,NaN\n",
      "11:26,NaN\n",
      "11:27,NaN\n",
      "11:41,NaN\n",
      "11:43,NaN\n",
      "11:47,NaN\n",
      "11:55,NaN\n"
     ]
    }
   ],
   "source": [
    "### Do not change the code in this cell.\n",
    "pdl03tst = 'pdl03new_'+str(SID)+'.csv'\n",
    "ftst = open(pdl03tst,'r')\n",
    "tstcontent = ftst.read()\n",
    "igap2 = 0\n",
    "print(\"Data gaps are at the following times:\")\n",
    "for k in range(tstcontent.count('NaN')):\n",
    "    igap1 = tstcontent.find('NaN',igap2)-6\n",
    "    igap2 = igap1+9\n",
    "    print(tstcontent[igap1:igap2])"
   ]
  },
  {
   "cell_type": "markdown",
   "metadata": {},
   "source": [
    "---\n",
    "---"
   ]
  }
 ],
 "metadata": {
  "kernelspec": {
   "display_name": "Python 3 (ipykernel)",
   "language": "python",
   "name": "python3"
  },
  "language_info": {
   "codemirror_mode": {
    "name": "ipython",
    "version": 3
   },
   "file_extension": ".py",
   "mimetype": "text/x-python",
   "name": "python",
   "nbconvert_exporter": "python",
   "pygments_lexer": "ipython3",
   "version": "3.9.12"
  }
 },
 "nbformat": 4,
 "nbformat_minor": 4
}
