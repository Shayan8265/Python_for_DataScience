{
 "cells": [
  {
   "cell_type": "markdown",
   "id": "fe01a9f9",
   "metadata": {},
   "source": [
    "# NAME ; Shayan Ali Khan\n",
    "# Batch 1"
   ]
  },
  {
   "cell_type": "markdown",
   "id": "5e444d30",
   "metadata": {},
   "source": [
    "1. String concatenation: Write a program that takes two strings as input and returns the\n",
    "   concatenation of the two strings."
   ]
  },
  {
   "cell_type": "code",
   "execution_count": 74,
   "id": "b77f0fff",
   "metadata": {},
   "outputs": [
    {
     "name": "stdout",
     "output_type": "stream",
     "text": [
      "shayan\n",
      "ali\n",
      "shayan ali\n"
     ]
    }
   ],
   "source": [
    "name_a = input()\n",
    "name_b = input()\n",
    "print(name_a + \" \" + name_b)"
   ]
  },
  {
   "cell_type": "markdown",
   "id": "63416cc5",
   "metadata": {},
   "source": [
    "Maximum of three numbers: Write a program that takes three numbers as input and\n",
    "returns the maximum of the three."
   ]
  },
  {
   "cell_type": "code",
   "execution_count": 10,
   "id": "1e37276f",
   "metadata": {},
   "outputs": [
    {
     "name": "stdout",
     "output_type": "stream",
     "text": [
      "a; 2\n",
      "b; 3\n",
      "c; 4\n",
      "4\n"
     ]
    }
   ],
   "source": [
    "a = input(\"a; \" )\n",
    "b = input(\"b; \" )\n",
    "c = input(\"c; \" )\n",
    "lst = [a,b,c]\n",
    "print(max(lst))"
   ]
  },
  {
   "cell_type": "markdown",
   "id": "52d33573",
   "metadata": {},
   "source": [
    "FizzBuzz: Write a program that prints the numbers from 1 to 100, but for multiples of\n",
    "three, it should print \"Fizz\" instead of the number, and for multiples of five, it should print\n",
    "\"Buzz\". For numbers that are multiples of both three and five, it should print \"FizzBuzz\"."
   ]
  },
  {
   "cell_type": "code",
   "execution_count": 16,
   "id": "cffb6f8e",
   "metadata": {},
   "outputs": [],
   "source": [
    "lst2 = list(range(1,101))\n",
    "\n",
    "for x in lst2:\n",
    "    a = x%3\n",
    "    b = x%5\n",
    "    if a==0 and b==0:\n",
    "        print(\"FizzBuzz\")\n",
    "    elif a==0:\n",
    "        print(\"Fizz\")\n",
    "    elif b==0:\n",
    "        print(\"Buzz\")\n",
    "    else:\n",
    "        print(x)"
   ]
  },
  {
   "cell_type": "markdown",
   "id": "167c5923",
   "metadata": {},
   "source": [
    "---"
   ]
  },
  {
   "cell_type": "markdown",
   "id": "37c21f12",
   "metadata": {},
   "source": [
    "4. Sum of digits: Write a program that takes a positive integer as input and returns the sum\n",
    "of its digits."
   ]
  },
  {
   "cell_type": "code",
   "execution_count": 91,
   "id": "7e9fc3ef",
   "metadata": {},
   "outputs": [
    {
     "name": "stdout",
     "output_type": "stream",
     "text": [
      "123\n",
      "6\n"
     ]
    }
   ],
   "source": [
    "x = input()\n",
    "y = 0\n",
    "for w in x:\n",
    "    y = y + int(w)\n",
    "print(y)"
   ]
  },
  {
   "cell_type": "markdown",
   "id": "63df2275",
   "metadata": {},
   "source": [
    "5. Print stars: Write a program that takes a positive integer as input and prints that many\n",
    "asterisks (*) on a single line"
   ]
  },
  {
   "cell_type": "code",
   "execution_count": 106,
   "id": "1fadc60c",
   "metadata": {},
   "outputs": [
    {
     "name": "stdout",
     "output_type": "stream",
     "text": [
      "12\n",
      "************"
     ]
    }
   ],
   "source": [
    "x = input()\n",
    "for i in range(int(x)):\n",
    "    print(\"*\", end =\"\")"
   ]
  },
  {
   "cell_type": "markdown",
   "id": "0c0b9379",
   "metadata": {},
   "source": [
    "6. Reverse a string: Write a program that reverses a given string."
   ]
  },
  {
   "cell_type": "code",
   "execution_count": 117,
   "id": "039572cc",
   "metadata": {
    "scrolled": true
   },
   "outputs": [
    {
     "name": "stdout",
     "output_type": "stream",
     "text": [
      "shayan\n",
      "reversed string = nayahs\n"
     ]
    }
   ],
   "source": [
    "y = input()\n",
    "x = y[::-1]\n",
    "print(\"reversed string =\", x)"
   ]
  },
  {
   "cell_type": "markdown",
   "id": "8be4ead0",
   "metadata": {},
   "source": [
    "7. Maximum and minimum of a list: Write a program that takes a list of numbers as input\n",
    "and returns the maximum and minimum of the list."
   ]
  },
  {
   "cell_type": "code",
   "execution_count": null,
   "id": "9e56a9ae",
   "metadata": {},
   "outputs": [],
   "source": [
    "print(\"input numbers with spaces\")\n",
    "lst = (input()).split() \n",
    "print(max(lst))\n",
    "print(min(lst))"
   ]
  },
  {
   "cell_type": "markdown",
   "id": "9abe9cd4",
   "metadata": {},
   "source": [
    "---\n"
   ]
  },
  {
   "cell_type": "markdown",
   "id": "ff5cbe7a",
   "metadata": {},
   "source": [
    "8. Guessing game: Write a program that generates a random number between 1 and 100,\n",
    "and allows the user to guess the number. The program should give feedback on each\n",
    "guess (e.g. too high, too low, correct), and keep track of the number of guesses."
   ]
  },
  {
   "cell_type": "code",
   "execution_count": 8,
   "id": "1e30a3eb",
   "metadata": {
    "scrolled": true
   },
   "outputs": [
    {
     "name": "stdout",
     "output_type": "stream",
     "text": [
      "correct ans is;  49\n",
      "Try no.  1\n",
      "49\n",
      "Correct\n"
     ]
    }
   ],
   "source": [
    "import random\n",
    "x = random.randint(1,100)\n",
    "print(\"correct ans is; \", x)\n",
    "t = 0\n",
    "guess = 0;\n",
    "while guess != x :\n",
    "    t += 1\n",
    "    print(\"Try no. \", t)\n",
    "    guess = int(input())\n",
    "    if(guess < x/2):\n",
    "        print(\"too low\")\n",
    "    elif(guess > x*2):\n",
    "        print(\"too high\")\n",
    "    elif(guess < x):\n",
    "        print(\"low\")\n",
    "    elif(guess > x):\n",
    "        print(\"high\")\n",
    "print(\"Correct\")"
   ]
  },
  {
   "cell_type": "markdown",
   "id": "cbdbe9fa",
   "metadata": {},
   "source": [
    "9. Average of numbers: Write a program that calculates the average of a list of numbers\n",
    "entered by the user."
   ]
  },
  {
   "cell_type": "code",
   "execution_count": 38,
   "id": "dc2981f5",
   "metadata": {},
   "outputs": [
    {
     "name": "stdout",
     "output_type": "stream",
     "text": [
      "1 2 3\n",
      "2.0\n"
     ]
    }
   ],
   "source": [
    "lst = input().split()\n",
    "lst_int = sorted(int(j) for j in lst)\n",
    "x = 0\n",
    "for i in lst_int:\n",
    "    x = x + i\n",
    "w = x/len(lst)\n",
    "print(w)"
   ]
  },
  {
   "cell_type": "markdown",
   "id": "6e10f25a",
   "metadata": {},
   "source": [
    "10. Median of a list: Write a program that takes a list of numbers as input and returns the\n",
    "median of the list."
   ]
  },
  {
   "cell_type": "code",
   "execution_count": 40,
   "id": "5ddeeb59",
   "metadata": {},
   "outputs": [
    {
     "name": "stdout",
     "output_type": "stream",
     "text": [
      "1 2 3\n",
      "2\n"
     ]
    }
   ],
   "source": [
    "lst = input().split()\n",
    "lst_int = sorted(int(j) for j in lst)\n",
    "x = 0\n",
    "if len(lst_int) % 2 == 0:\n",
    "    median = (lst_int[int(len(lst_int)/2)] + lst_int[int(len(lst_int)/2) - 1]) / 2\n",
    "else:\n",
    "    median = lst_int[int(len(lst_int)/2)]\n",
    "print(median)"
   ]
  }
 ],
 "metadata": {
  "kernelspec": {
   "display_name": "Python 3 (ipykernel)",
   "language": "python",
   "name": "python3"
  },
  "language_info": {
   "codemirror_mode": {
    "name": "ipython",
    "version": 3
   },
   "file_extension": ".py",
   "mimetype": "text/x-python",
   "name": "python",
   "nbconvert_exporter": "python",
   "pygments_lexer": "ipython3",
   "version": "3.9.13"
  }
 },
 "nbformat": 4,
 "nbformat_minor": 5
}
